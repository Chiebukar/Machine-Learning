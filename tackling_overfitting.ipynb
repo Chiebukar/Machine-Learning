{
  "nbformat": 4,
  "nbformat_minor": 0,
  "metadata": {
    "colab": {
      "name": "tackling_overfitting.ipynb",
      "provenance": []
    },
    "kernelspec": {
      "name": "python3",
      "display_name": "Python 3"
    }
  },
  "cells": [
    {
      "cell_type": "code",
      "metadata": {
        "id": "NJD0V1fgqLiW"
      },
      "source": [
        "import numpy as np \r\n",
        "from sklearn.model_selection import train_test_split\r\n",
        "from tensorflow import keras\r\n",
        "from keras.models import Sequential\r\n",
        "from keras.layers import Dense, Embedding, GlobalAveragePooling1D, Dropout\r\n",
        "import matplotlib.pyplot as plt\r\n",
        "%matplotlib inline"
      ],
      "execution_count": 15,
      "outputs": []
    },
    {
      "cell_type": "code",
      "metadata": {
        "id": "LuJ_vEFjqmrC"
      },
      "source": [
        "from keras.datasets import imdb\r\n",
        "(train_data, train_label), (test_data, test_label) = imdb.load_data(num_words= 10000)"
      ],
      "execution_count": null,
      "outputs": []
    },
    {
      "cell_type": "code",
      "metadata": {
        "colab": {
          "base_uri": "https://localhost:8080/"
        },
        "id": "l5Fr5unorEzB",
        "outputId": "a4ba870f-ecbd-4a82-e1be-69b08b08d48a"
      },
      "source": [
        "train_data.shape, train_label.shape, test_data.shape, test_label.shape"
      ],
      "execution_count": 7,
      "outputs": [
        {
          "output_type": "execute_result",
          "data": {
            "text/plain": [
              "((25000,), (25000,), (25000,), (25000,))"
            ]
          },
          "metadata": {
            "tags": []
          },
          "execution_count": 7
        }
      ]
    },
    {
      "cell_type": "code",
      "metadata": {
        "colab": {
          "base_uri": "https://localhost:8080/"
        },
        "id": "z6DpENAFroU4",
        "outputId": "9b8e210a-5d8d-46ed-a194-d19668727527"
      },
      "source": [
        "list_len = [len(i) for i in train_data]\r\n",
        "max(list_len)"
      ],
      "execution_count": 8,
      "outputs": [
        {
          "output_type": "execute_result",
          "data": {
            "text/plain": [
              "2494"
            ]
          },
          "metadata": {
            "tags": []
          },
          "execution_count": 8
        }
      ]
    },
    {
      "cell_type": "code",
      "metadata": {
        "id": "M_5dV22xx9Vd"
      },
      "source": [
        "from keras.preprocessing.sequence import pad_sequences\r\n",
        "train_data = pad_sequences(train_data,\r\n",
        "                          value = 0,\r\n",
        "                          padding ='post',\r\n",
        "                          maxlen = 2494)"
      ],
      "execution_count": 9,
      "outputs": []
    },
    {
      "cell_type": "code",
      "metadata": {
        "id": "axJDPHqsyCLW"
      },
      "source": [
        "test_data = pad_sequences(test_data,\r\n",
        "                         value = 0,\r\n",
        "                         padding = 'post',\r\n",
        "                         maxlen = 2494)"
      ],
      "execution_count": 11,
      "outputs": []
    },
    {
      "cell_type": "code",
      "metadata": {
        "id": "j20Llmkn2bdo"
      },
      "source": [
        "x_train, x_val, y_train, y_val = train_test_split(train_data, train_label, test_size= 0.2, random_state = 4, stratify  = train_label )"
      ],
      "execution_count": 16,
      "outputs": []
    },
    {
      "cell_type": "code",
      "metadata": {
        "id": "BfUch1HTs8aH"
      },
      "source": [
        "def build_model(units= 64):\r\n",
        "  model = Sequential()\r\n",
        "  model.add(Embedding(10000, 16))\r\n",
        "  model.add(GlobalAveragePooling1D())\r\n",
        "  model.add(Dense(units, activation = 'relu'))\r\n",
        "  model.add(Dense(units, activation = 'relu'))\r\n",
        "  model.add(Dense(1,  activation = 'sigmoid'))\r\n",
        "  return model"
      ],
      "execution_count": 34,
      "outputs": []
    },
    {
      "cell_type": "code",
      "metadata": {
        "id": "s0p-GqR8yvuP"
      },
      "source": [
        "model = build_model()\r\n",
        "model.compile(loss = 'binary_crossentropy',\r\n",
        "               optimizer = 'rmsprop',\r\n",
        "               metrics = ['accuracy'])\r\n",
        "model.summary()\r\n",
        "history = model.fit(x_train, y_train, validation_data = (x_val, y_val), epochs = 50, batch_size = 512)\r\n",
        "model.evaluate(test_data, test_label)"
      ],
      "execution_count": null,
      "outputs": []
    },
    {
      "cell_type": "code",
      "metadata": {
        "id": "3RKUuY-R7zEt"
      },
      "source": [
        "initial_val_loss = history.history['val_loss']\r\n",
        "epochs =range(1, len(initial_val_loss)+1)"
      ],
      "execution_count": 73,
      "outputs": []
    },
    {
      "cell_type": "code",
      "metadata": {
        "colab": {
          "base_uri": "https://localhost:8080/",
          "height": 312
        },
        "id": "YgGSc9-l7-aP",
        "outputId": "0edced62-d78d-498c-d6ea-899b9333fbb4"
      },
      "source": [
        "plt.plot(epochs, initial_val_loss, 'bo')\r\n",
        "plt.title('validation loss')\r\n",
        "plt.xlabel('Epochs')\r\n",
        "plt.ylabel('Loss')\r\n",
        "\r\n",
        "plt.show"
      ],
      "execution_count": 74,
      "outputs": [
        {
          "output_type": "execute_result",
          "data": {
            "text/plain": [
              "<function matplotlib.pyplot.show>"
            ]
          },
          "metadata": {
            "tags": []
          },
          "execution_count": 74
        },
        {
          "output_type": "display_data",
          "data": {
            "image/png": "[encoded data removed]",
            "text/plain": [
              "<Figure size 432x288 with 1 Axes>"
            ]
          },
          "metadata": {
            "tags": [],
            "needs_background": "light"
          }
        }
      ]
    },
    {
      "cell_type": "code",
      "metadata": {
        "id": "6bX-UTd5-Ff2"
      },
      "source": [
        "model = build_model(units = 4)\r\n",
        "model.compile(loss = 'binary_crossentropy',\r\n",
        "               optimizer = 'rmsprop',\r\n",
        "               metrics = ['accuracy'])\r\n",
        "model.summary()\r\n",
        "history = model.fit(x_train, y_train, validation_data = (x_val, y_val), epochs = 21, batch_size = 512)\r\n",
        "model.evaluate(test_data, test_label)"
      ],
      "execution_count": null,
      "outputs": []
    },
    {
      "cell_type": "code",
      "metadata": {
        "id": "iSq_Tw6AEAfc"
      },
      "source": [
        "val_loss = history.history['val_loss']\r\n",
        "epochs =range(1, len(val_loss)+1)"
      ],
      "execution_count": 54,
      "outputs": []
    },
    {
      "cell_type": "code",
      "metadata": {
        "colab": {
          "base_uri": "https://localhost:8080/",
          "height": 329
        },
        "id": "tLsbgJv6-OHI",
        "outputId": "d9eba52e-e9df-4e9e-8e51-11b6337d4c75"
      },
      "source": [
        "plt.plot(epochs, val_loss, 'b')\r\n",
        "plt.title('validation loss')\r\n",
        "plt.xlabel('Epochs')\r\n",
        "plt.ylabel('Loss')\r\n",
        "plt.legend()\r\n",
        "\r\n",
        "plt.show"
      ],
      "execution_count": 55,
      "outputs": [
        {
          "output_type": "stream",
          "text": [
            "No handles with labels found to put in legend.\n"
          ],
          "name": "stderr"
        },
        {
          "output_type": "execute_result",
          "data": {
            "text/plain": [
              "<function matplotlib.pyplot.show>"
            ]
          },
          "metadata": {
            "tags": []
          },
          "execution_count": 55
        },
        {
          "output_type": "display_data",
          "data": {
            "image/png": "[encoded data removed]",
            "text/plain": [
              "<Figure size 432x288 with 1 Axes>"
            ]
          },
          "metadata": {
            "tags": [],
            "needs_background": "light"
          }
        }
      ]
    },
    {
      "cell_type": "code",
      "metadata": {
        "id": "xcDTcPi0JDVv"
      },
      "source": [
        "from keras.regularizers import l2"
      ],
      "execution_count": 57,
      "outputs": []
    },
    {
      "cell_type": "code",
      "metadata": {
        "id": "sd0tG06PJfdw"
      },
      "source": [
        "model = Sequential()\r\n",
        "model.add(Embedding(10000, 16))\r\n",
        "model.add(GlobalAveragePooling1D())\r\n",
        "model.add(Dense(64, kernel_regularizer = l2(0.001), activation = 'relu'))\r\n",
        "model.add(Dense(64, kernel_regularizer = l2(0.001), activation = 'relu'))\r\n",
        "model.add(Dense(1,  activation = 'sigmoid'))\r\n",
        "\r\n",
        "model.compile(loss = 'binary_crossentropy',\r\n",
        "               optimizer = 'rmsprop',\r\n",
        "               metrics = ['accuracy'])\r\n",
        "\r\n",
        "history = model.fit(x_train, y_train, validation_data = (x_val, y_val), epochs = 50, batch_size = 512)\r\n",
        "model.evaluate(test_data, test_label)"
      ],
      "execution_count": null,
      "outputs": []
    },
    {
      "cell_type": "code",
      "metadata": {
        "colab": {
          "base_uri": "https://localhost:8080/",
          "height": 312
        },
        "id": "LnzIv533Mc0Q",
        "outputId": "24de74f4-b446-4e0e-d43f-056b1e3fb86a"
      },
      "source": [
        "val_loss = history.history['val_loss']\r\n",
        "epochs =range(1, len(val_loss)+1)\r\n",
        "\r\n",
        "plt.plot(epochs, val_loss, 'b')\r\n",
        "plt.plot(epochs, initial_val_loss, 'b-')\r\n",
        "plt.title('validation loss')\r\n",
        "plt.xlabel('Epochs')\r\n",
        "plt.ylabel('Loss')\r\n",
        "\r\n",
        "\r\n",
        "plt.show"
      ],
      "execution_count": 77,
      "outputs": [
        {
          "output_type": "execute_result",
          "data": {
            "text/plain": [
              "<function matplotlib.pyplot.show>"
            ]
          },
          "metadata": {
            "tags": []
          },
          "execution_count": 77
        },
        {
          "output_type": "display_data",
          "data": {
            "image/png": "[encoded data removed]",
            "text/plain": [
              "<Figure size 432x288 with 1 Axes>"
            ]
          },
          "metadata": {
            "tags": [],
            "needs_background": "light"
          }
        }
      ]
    },
    {
      "cell_type": "code",
      "metadata": {
        "id": "1RZZReFBRokS"
      },
      "source": [
        " model = Sequential()\r\n",
        "model.add(Embedding(10000, 16))\r\n",
        "model.add(GlobalAveragePooling1D())\r\n",
        "model.add(Dense(units, activation = 'relu'))\r\n",
        "model.add(Dropou(0.5))\r\n",
        "model.add(Dense(units, activation = 'relu'))\r\n",
        "model.add(Dropou(0.5))\r\n",
        "model.add(Dense(1,  activation = 'sigmoid'))"
      ],
      "execution_count": null,
      "outputs": []
    }
  ]
}