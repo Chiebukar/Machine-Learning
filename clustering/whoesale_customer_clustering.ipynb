{
 "cells": [
  {
   "cell_type": "code",
   "execution_count": 49,
   "metadata": {},
   "outputs": [],
   "source": [
    "import numpy as np\n",
    "import pandas as pd\n",
    "import matplotlib.pyplot as plt\n",
    "import seaborn as sns\n",
    "from sklearn.cluster import KMeans, DBSCAN\n",
    "from sklearn.metrics import silhouette_score\n",
    "from mpl_toolkits.mplot3d import Axes3D\n",
    "from itertools import product\n",
    "\n",
    "%matplotlib inline"
   ]
  },
  {
   "cell_type": "code",
   "execution_count": 3,
   "metadata": {
    "scrolled": true
   },
   "outputs": [
    {
     "data": {
      "text/html": [
       "<div>\n",
       "<style scoped>\n",
       "    .dataframe tbody tr th:only-of-type {\n",
       "        vertical-align: middle;\n",
       "    }\n",
       "\n",
       "    .dataframe tbody tr th {\n",
       "        vertical-align: top;\n",
       "    }\n",
       "\n",
       "    .dataframe thead th {\n",
       "        text-align: right;\n",
       "    }\n",
       "</style>\n",
       "<table border=\"1\" class=\"dataframe\">\n",
       "  <thead>\n",
       "    <tr style=\"text-align: right;\">\n",
       "      <th></th>\n",
       "      <th>Channel</th>\n",
       "      <th>Region</th>\n",
       "      <th>Fresh</th>\n",
       "      <th>Milk</th>\n",
       "      <th>Grocery</th>\n",
       "      <th>Frozen</th>\n",
       "      <th>Detergents_Paper</th>\n",
       "      <th>Delicassen</th>\n",
       "    </tr>\n",
       "  </thead>\n",
       "  <tbody>\n",
       "    <tr>\n",
       "      <th>0</th>\n",
       "      <td>2</td>\n",
       "      <td>3</td>\n",
       "      <td>12669</td>\n",
       "      <td>9656</td>\n",
       "      <td>7561</td>\n",
       "      <td>214</td>\n",
       "      <td>2674</td>\n",
       "      <td>1338</td>\n",
       "    </tr>\n",
       "    <tr>\n",
       "      <th>1</th>\n",
       "      <td>2</td>\n",
       "      <td>3</td>\n",
       "      <td>7057</td>\n",
       "      <td>9810</td>\n",
       "      <td>9568</td>\n",
       "      <td>1762</td>\n",
       "      <td>3293</td>\n",
       "      <td>1776</td>\n",
       "    </tr>\n",
       "    <tr>\n",
       "      <th>2</th>\n",
       "      <td>2</td>\n",
       "      <td>3</td>\n",
       "      <td>6353</td>\n",
       "      <td>8808</td>\n",
       "      <td>7684</td>\n",
       "      <td>2405</td>\n",
       "      <td>3516</td>\n",
       "      <td>7844</td>\n",
       "    </tr>\n",
       "    <tr>\n",
       "      <th>3</th>\n",
       "      <td>1</td>\n",
       "      <td>3</td>\n",
       "      <td>13265</td>\n",
       "      <td>1196</td>\n",
       "      <td>4221</td>\n",
       "      <td>6404</td>\n",
       "      <td>507</td>\n",
       "      <td>1788</td>\n",
       "    </tr>\n",
       "  </tbody>\n",
       "</table>\n",
       "</div>"
      ],
      "text/plain": [
       "   Channel  Region  Fresh  Milk  Grocery  Frozen  Detergents_Paper  Delicassen\n",
       "0        2       3  12669  9656     7561     214              2674        1338\n",
       "1        2       3   7057  9810     9568    1762              3293        1776\n",
       "2        2       3   6353  8808     7684    2405              3516        7844\n",
       "3        1       3  13265  1196     4221    6404               507        1788"
      ]
     },
     "execution_count": 3,
     "metadata": {},
     "output_type": "execute_result"
    }
   ],
   "source": [
    "df = pd.read_csv('Wholesale customers data.csv')\n",
    "df.head(4)"
   ]
  },
  {
   "cell_type": "code",
   "execution_count": 24,
   "metadata": {},
   "outputs": [
    {
     "data": {
      "text/plain": [
       "(440, 8)"
      ]
     },
     "execution_count": 24,
     "metadata": {},
     "output_type": "execute_result"
    }
   ],
   "source": [
    "df.shape"
   ]
  },
  {
   "cell_type": "code",
   "execution_count": 13,
   "metadata": {
    "scrolled": true
   },
   "outputs": [
    {
     "data": {
      "image/png": "[encoded data removed]",
      "text/plain": [
       "<Figure size 1080x648 with 2 Axes>"
      ]
     },
     "metadata": {
      "needs_background": "light"
     },
     "output_type": "display_data"
    }
   ],
   "source": [
    "plt.figure(figsize= (15,9))\n",
    "cols = ['Channel',  'Region']\n",
    "for i, col in enumerate(cols):\n",
    "    plt.subplot(1, len(cols),i+1)\n",
    "    plt.subplots_adjust(hspace = 0.5, wspace = 0.5)\n",
    "    sns.countplot(df[col])\n",
    "    plt.title('Count plot of {}'.format(col))\n",
    "    plt.ylabel('Count')\n",
    "    plt.xlabel(col)\n",
    "plt.show()"
   ]
  },
  {
   "cell_type": "code",
   "execution_count": 14,
   "metadata": {
    "scrolled": true
   },
   "outputs": [
    {
     "name": "stdout",
     "output_type": "stream",
     "text": [
      "<class 'pandas.core.frame.DataFrame'>\n",
      "RangeIndex: 440 entries, 0 to 439\n",
      "Data columns (total 8 columns):\n",
      " #   Column            Non-Null Count  Dtype\n",
      "---  ------            --------------  -----\n",
      " 0   Channel           440 non-null    int64\n",
      " 1   Region            440 non-null    int64\n",
      " 2   Fresh             440 non-null    int64\n",
      " 3   Milk              440 non-null    int64\n",
      " 4   Grocery           440 non-null    int64\n",
      " 5   Frozen            440 non-null    int64\n",
      " 6   Detergents_Paper  440 non-null    int64\n",
      " 7   Delicassen        440 non-null    int64\n",
      "dtypes: int64(8)\n",
      "memory usage: 27.6 KB\n"
     ]
    }
   ],
   "source": [
    "df.info()"
   ]
  },
  {
   "cell_type": "code",
   "execution_count": 15,
   "metadata": {
    "scrolled": true
   },
   "outputs": [
    {
     "data": {
      "text/html": [
       "<div>\n",
       "<style scoped>\n",
       "    .dataframe tbody tr th:only-of-type {\n",
       "        vertical-align: middle;\n",
       "    }\n",
       "\n",
       "    .dataframe tbody tr th {\n",
       "        vertical-align: top;\n",
       "    }\n",
       "\n",
       "    .dataframe thead th {\n",
       "        text-align: right;\n",
       "    }\n",
       "</style>\n",
       "<table border=\"1\" class=\"dataframe\">\n",
       "  <thead>\n",
       "    <tr style=\"text-align: right;\">\n",
       "      <th></th>\n",
       "      <th>Channel</th>\n",
       "      <th>Region</th>\n",
       "      <th>Fresh</th>\n",
       "      <th>Milk</th>\n",
       "      <th>Grocery</th>\n",
       "      <th>Frozen</th>\n",
       "      <th>Detergents_Paper</th>\n",
       "      <th>Delicassen</th>\n",
       "    </tr>\n",
       "  </thead>\n",
       "  <tbody>\n",
       "    <tr>\n",
       "      <th>count</th>\n",
       "      <td>440.000000</td>\n",
       "      <td>440.000000</td>\n",
       "      <td>440.000000</td>\n",
       "      <td>440.000000</td>\n",
       "      <td>440.000000</td>\n",
       "      <td>440.000000</td>\n",
       "      <td>440.000000</td>\n",
       "      <td>440.000000</td>\n",
       "    </tr>\n",
       "    <tr>\n",
       "      <th>mean</th>\n",
       "      <td>1.322727</td>\n",
       "      <td>2.543182</td>\n",
       "      <td>12000.297727</td>\n",
       "      <td>5796.265909</td>\n",
       "      <td>7951.277273</td>\n",
       "      <td>3071.931818</td>\n",
       "      <td>2881.493182</td>\n",
       "      <td>1524.870455</td>\n",
       "    </tr>\n",
       "    <tr>\n",
       "      <th>std</th>\n",
       "      <td>0.468052</td>\n",
       "      <td>0.774272</td>\n",
       "      <td>12647.328865</td>\n",
       "      <td>7380.377175</td>\n",
       "      <td>9503.162829</td>\n",
       "      <td>4854.673333</td>\n",
       "      <td>4767.854448</td>\n",
       "      <td>2820.105937</td>\n",
       "    </tr>\n",
       "    <tr>\n",
       "      <th>min</th>\n",
       "      <td>1.000000</td>\n",
       "      <td>1.000000</td>\n",
       "      <td>3.000000</td>\n",
       "      <td>55.000000</td>\n",
       "      <td>3.000000</td>\n",
       "      <td>25.000000</td>\n",
       "      <td>3.000000</td>\n",
       "      <td>3.000000</td>\n",
       "    </tr>\n",
       "    <tr>\n",
       "      <th>25%</th>\n",
       "      <td>1.000000</td>\n",
       "      <td>2.000000</td>\n",
       "      <td>3127.750000</td>\n",
       "      <td>1533.000000</td>\n",
       "      <td>2153.000000</td>\n",
       "      <td>742.250000</td>\n",
       "      <td>256.750000</td>\n",
       "      <td>408.250000</td>\n",
       "    </tr>\n",
       "    <tr>\n",
       "      <th>50%</th>\n",
       "      <td>1.000000</td>\n",
       "      <td>3.000000</td>\n",
       "      <td>8504.000000</td>\n",
       "      <td>3627.000000</td>\n",
       "      <td>4755.500000</td>\n",
       "      <td>1526.000000</td>\n",
       "      <td>816.500000</td>\n",
       "      <td>965.500000</td>\n",
       "    </tr>\n",
       "    <tr>\n",
       "      <th>75%</th>\n",
       "      <td>2.000000</td>\n",
       "      <td>3.000000</td>\n",
       "      <td>16933.750000</td>\n",
       "      <td>7190.250000</td>\n",
       "      <td>10655.750000</td>\n",
       "      <td>3554.250000</td>\n",
       "      <td>3922.000000</td>\n",
       "      <td>1820.250000</td>\n",
       "    </tr>\n",
       "    <tr>\n",
       "      <th>max</th>\n",
       "      <td>2.000000</td>\n",
       "      <td>3.000000</td>\n",
       "      <td>112151.000000</td>\n",
       "      <td>73498.000000</td>\n",
       "      <td>92780.000000</td>\n",
       "      <td>60869.000000</td>\n",
       "      <td>40827.000000</td>\n",
       "      <td>47943.000000</td>\n",
       "    </tr>\n",
       "  </tbody>\n",
       "</table>\n",
       "</div>"
      ],
      "text/plain": [
       "          Channel      Region          Fresh          Milk       Grocery  \\\n",
       "count  440.000000  440.000000     440.000000    440.000000    440.000000   \n",
       "mean     1.322727    2.543182   12000.297727   5796.265909   7951.277273   \n",
       "std      0.468052    0.774272   12647.328865   7380.377175   9503.162829   \n",
       "min      1.000000    1.000000       3.000000     55.000000      3.000000   \n",
       "25%      1.000000    2.000000    3127.750000   1533.000000   2153.000000   \n",
       "50%      1.000000    3.000000    8504.000000   3627.000000   4755.500000   \n",
       "75%      2.000000    3.000000   16933.750000   7190.250000  10655.750000   \n",
       "max      2.000000    3.000000  112151.000000  73498.000000  92780.000000   \n",
       "\n",
       "             Frozen  Detergents_Paper    Delicassen  \n",
       "count    440.000000        440.000000    440.000000  \n",
       "mean    3071.931818       2881.493182   1524.870455  \n",
       "std     4854.673333       4767.854448   2820.105937  \n",
       "min       25.000000          3.000000      3.000000  \n",
       "25%      742.250000        256.750000    408.250000  \n",
       "50%     1526.000000        816.500000    965.500000  \n",
       "75%     3554.250000       3922.000000   1820.250000  \n",
       "max    60869.000000      40827.000000  47943.000000  "
      ]
     },
     "execution_count": 15,
     "metadata": {},
     "output_type": "execute_result"
    }
   ],
   "source": [
    "df.describe()"
   ]
  },
  {
   "cell_type": "code",
   "execution_count": 16,
   "metadata": {
    "scrolled": false
   },
   "outputs": [
    {
     "data": {
      "text/plain": [
       "Channel             0\n",
       "Region              0\n",
       "Fresh               0\n",
       "Milk                0\n",
       "Grocery             0\n",
       "Frozen              0\n",
       "Detergents_Paper    0\n",
       "Delicassen          0\n",
       "dtype: int64"
      ]
     },
     "execution_count": 16,
     "metadata": {},
     "output_type": "execute_result"
    }
   ],
   "source": [
    "df.isnull().sum()"
   ]
  },
  {
   "cell_type": "code",
   "execution_count": 19,
   "metadata": {
    "scrolled": false
   },
   "outputs": [],
   "source": [
    "X = df.drop(['Channel', 'Region'], axis='columns')"
   ]
  },
  {
   "cell_type": "markdown",
   "metadata": {},
   "source": [
    " # Clustering with KMeans"
   ]
  },
  {
   "cell_type": "code",
   "execution_count": 29,
   "metadata": {},
   "outputs": [],
   "source": [
    "n_clusters = range(2, 10)\n",
    "clusters_inertia = []\n",
    "sil_scores = []\n",
    "for n in n_clusters:\n",
    "    km = KMeans(init = 'k-means++', n_clusters = n)\n",
    "    km.fit(X)\n",
    "    clusters_inertia.append(km.inertia_)\n",
    "    silhouette_avg = silhouette_score(X, km.labels_)\n",
    "    sil_scores.append(silhouette_avg)"
   ]
  },
  {
   "cell_type": "code",
   "execution_count": 30,
   "metadata": {},
   "outputs": [
    {
     "data": {
      "text/plain": [
       "Text(0.5, 1.0, 'Elbow Method')"
      ]
     },
     "execution_count": 30,
     "metadata": {},
     "output_type": "execute_result"
    },
    {
     "data": {
      "image/png": "[encoded data removed]",
      "text/plain": [
       "<Figure size 720x432 with 1 Axes>"
      ]
     },
     "metadata": {
      "needs_background": "light"
     },
     "output_type": "display_data"
    }
   ],
   "source": [
    "plt.figure(figsize= (10,6))\n",
    "\n",
    "plt.plot(n_clusters, clusters_inertia, marker= 'o')\n",
    "plt.ylabel('cluster inertia')\n",
    "plt.xlabel('number of clusters')\n",
    "plt.grid()\n",
    "plt.title('Elbow Method')"
   ]
  },
  {
   "cell_type": "code",
   "execution_count": 31,
   "metadata": {
    "scrolled": true
   },
   "outputs": [
    {
     "data": {
      "text/plain": [
       "Text(0.5, 1.0, 'Silhouette Method')"
      ]
     },
     "execution_count": 31,
     "metadata": {},
     "output_type": "execute_result"
    },
    {
     "data": {
      "image/png": "[encoded data removed]",
      "text/plain": [
       "<Figure size 720x432 with 1 Axes>"
      ]
     },
     "metadata": {
      "needs_background": "light"
     },
     "output_type": "display_data"
    }
   ],
   "source": [
    "plt.figure(figsize= (10,6))\n",
    "\n",
    "plt.plot(n_clusters, sil_scores, marker= 'o')\n",
    "plt.ylabel('silhouette scores')\n",
    "plt.xlabel('number of clusters')\n",
    "plt.grid()\n",
    "plt.title('Silhouette Method')"
   ]
  },
  {
   "cell_type": "code",
   "execution_count": 32,
   "metadata": {},
   "outputs": [],
   "source": [
    "km = KMeans(init = 'k-means++', n_clusters = 2)\n",
    "y_pred = km.fit_predict(X)"
   ]
  },
  {
   "cell_type": "code",
   "execution_count": 33,
   "metadata": {},
   "outputs": [],
   "source": [
    "df['clusters'] = y_pred"
   ]
  },
  {
   "cell_type": "code",
   "execution_count": 34,
   "metadata": {
    "scrolled": true
   },
   "outputs": [
    {
     "data": {
      "text/html": [
       "<div>\n",
       "<style scoped>\n",
       "    .dataframe tbody tr th:only-of-type {\n",
       "        vertical-align: middle;\n",
       "    }\n",
       "\n",
       "    .dataframe tbody tr th {\n",
       "        vertical-align: top;\n",
       "    }\n",
       "\n",
       "    .dataframe thead th {\n",
       "        text-align: right;\n",
       "    }\n",
       "</style>\n",
       "<table border=\"1\" class=\"dataframe\">\n",
       "  <thead>\n",
       "    <tr style=\"text-align: right;\">\n",
       "      <th></th>\n",
       "      <th>KMsize</th>\n",
       "    </tr>\n",
       "    <tr>\n",
       "      <th>clusters</th>\n",
       "      <th></th>\n",
       "    </tr>\n",
       "  </thead>\n",
       "  <tbody>\n",
       "    <tr>\n",
       "      <th>0</th>\n",
       "      <td>375</td>\n",
       "    </tr>\n",
       "    <tr>\n",
       "      <th>1</th>\n",
       "      <td>65</td>\n",
       "    </tr>\n",
       "  </tbody>\n",
       "</table>\n",
       "</div>"
      ],
      "text/plain": [
       "          KMsize\n",
       "clusters        \n",
       "0            375\n",
       "1             65"
      ]
     },
     "execution_count": 34,
     "metadata": {},
     "output_type": "execute_result"
    }
   ],
   "source": [
    "km_cluster_sizes =df.groupby('clusters').size().to_frame()\n",
    "km_cluster_sizes.columns = ['KMsize']\n",
    "km_cluster_sizes"
   ]
  },
  {
   "cell_type": "code",
   "execution_count": 44,
   "metadata": {},
   "outputs": [
    {
     "data": {
      "image/png": "[encoded data removed]",
      "text/plain": [
       "<Figure size 1080x648 with 1 Axes>"
      ]
     },
     "metadata": {
      "needs_background": "light"
     },
     "output_type": "display_data"
    }
   ],
   "source": [
    "fig = plt.figure(figsize=(15,9))\n",
    "\n",
    "ax = Axes3D(fig, rect = [0, 0, 0.99, 1], elev = 20, azim = 110)\n",
    "ax.scatter(df['Fresh'],\n",
    "          df['Frozen'],\n",
    "          df['Grocery'], c = df['clusters'], s=35, edgecolor = 'k', cmap= plt.cm.Set1)\n",
    "\n",
    "ax.w_xaxis.set_ticklabels([])\n",
    "ax.w_yaxis.set_ticklabels([])\n",
    "ax.w_zaxis.set_ticklabels([])\n",
    "ax.set_xlabel('Fresh')\n",
    "ax.set_ylabel('Frozen')\n",
    "ax.set_zlabel('Grocery')\n",
    "ax.set_title('3D view of K-Means  clusters')\n",
    "ax.dist = 12\n",
    "\n",
    "\n",
    "plt.show()"
   ]
  },
  {
   "cell_type": "code",
   "execution_count": 48,
   "metadata": {
    "scrolled": true
   },
   "outputs": [
    {
     "data": {
      "application/vnd.plotly.v1+json": {
       "config": {
        "linkText": "Export to plot.ly",
        "plotlyServerURL": "https://plot.ly",
        "showLink": false
       },
       "data": [
        {
         "marker": {
          "size": 2
         },
         "mode": "markers",
         "name": "Cluster 0",
         "type": "scatter3d",
         "x": [
          12669,
          7057,
          6353,
          13265,
          9413,
          12126,
          7579,
          5963,
          6006,
          3366,
          13146,
          21217,
          10253,
          1020,
          5876,
          18601,
          7780,
          17546,
          5567,
          16165,
          9898,
          14276,
          4113,
          18815,
          2612,
          21632,
          1502,
          688,
          15168,
          4591,
          19176,
          10850,
          630,
          9670,
          5181,
          3103,
          11519,
          4967,
          6269,
          3347,
          491,
          5264,
          4098,
          5417,
          13779,
          6137,
          8590,
          7823,
          9396,
          4760,
          85,
          9,
          19913,
          2446,
          8352,
          16705,
          18291,
          4420,
          19899,
          8190,
          20398,
          717,
          12205,
          10766,
          1640,
          7005,
          219,
          10362,
          20874,
          11867,
          7864,
          11405,
          12754,
          9198,
          11314,
          5626,
          3,
          23,
          403,
          503,
          9658,
          11594,
          1420,
          2932,
          14100,
          15587,
          1454,
          8797,
          1531,
          1406,
          11818,
          12579,
          19046,
          14438,
          18044,
          11134,
          11173,
          6990,
          20049,
          8258,
          17160,
          4020,
          12212,
          11170,
          19219,
          21465,
          140,
          7149,
          2101,
          14903,
          9434,
          7388,
          6300,
          4625,
          3087,
          13537,
          5387,
          17623,
          10405,
          18827,
          7769,
          9203,
          5924,
          16225,
          1289,
          18840,
          3463,
          622,
          1989,
          3830,
          17773,
          2861,
          355,
          1725,
          12434,
          15177,
          5531,
          5224,
          15615,
          4822,
          2926,
          5809,
          5414,
          260,
          200,
          955,
          514,
          286,
          2343,
          12759,
          11002,
          3157,
          12356,
          694,
          327,
          8170,
          3009,
          2438,
          8040,
          834,
          16936,
          13624,
          5509,
          180,
          7107,
          17023,
          2427,
          11686,
          9670,
          3067,
          4484,
          583,
          1956,
          1107,
          6373,
          2541,
          1537,
          5550,
          18567,
          12119,
          7291,
          3317,
          2362,
          2806,
          2532,
          18044,
          18,
          4155,
          14755,
          5396,
          5041,
          2790,
          7274,
          12680,
          20782,
          4042,
          1869,
          8656,
          11072,
          2344,
          964,
          15603,
          1838,
          8635,
          18692,
          7363,
          18226,
          11210,
          6202,
          3062,
          8885,
          13569,
          15671,
          8040,
          3191,
          6134,
          6623,
          10379,
          11092,
          8475,
          9193,
          7858,
          23257,
          2153,
          1073,
          5909,
          572,
          20893,
          11908,
          15218,
          4720,
          2083,
          514,
          894,
          680,
          9061,
          11693,
          17360,
          3366,
          12238,
          7149,
          15354,
          16260,
          2708,
          6022,
          2838,
          3996,
          21273,
          7588,
          19087,
          8090,
          6758,
          444,
          16448,
          5283,
          2886,
          2599,
          161,
          243,
          6468,
          17327,
          6987,
          918,
          7034,
          2137,
          9784,
          10617,
          1479,
          7127,
          1182,
          11800,
          9759,
          1774,
          9155,
          15881,
          13360,
          4414,
          542,
          16933,
          5113,
          9790,
          11223,
          22321,
          8565,
          16823,
          13970,
          9351,
          3,
          2617,
          381,
          2320,
          255,
          1689,
          3043,
          1198,
          2771,
          3428,
          5981,
          3521,
          1210,
          608,
          117,
          14039,
          190,
          22686,
          37,
          759,
          796,
          19746,
          4734,
          2121,
          4627,
          2615,
          4692,
          9561,
          3477,
          22335,
          6211,
          20105,
          3884,
          15076,
          6338,
          5841,
          3136,
          3225,
          4048,
          17770,
          1821,
          10683,
          11635,
          1206,
          20918,
          9785,
          9385,
          3352,
          2647,
          518,
          12377,
          9602,
          4515,
          11535,
          11442,
          9612,
          4446,
          18073,
          6884,
          7362,
          8257,
          8708,
          6633,
          2126,
          97,
          4983,
          5969,
          7842,
          4389,
          5065,
          660,
          8861,
          4456,
          17063,
          17565,
          16980,
          11243,
          13134,
          3047,
          8607,
          3097,
          8533,
          21117,
          1982,
          16731,
          14531,
          10290,
          2787
         ],
         "y": [
          214,
          1762,
          2405,
          6404,
          666,
          480,
          1669,
          425,
          1159,
          4400,
          1420,
          3095,
          397,
          134,
          839,
          2205,
          669,
          1066,
          3383,
          201,
          3151,
          485,
          1158,
          1148,
          2088,
          266,
          425,
          833,
          1920,
          33,
          2033,
          188,
          787,
          541,
          1740,
          1668,
          584,
          1798,
          3860,
          239,
          744,
          1057,
          2616,
          38,
          596,
          129,
          96,
          4154,
          2896,
          3724,
          36,
          175,
          1256,
          5870,
          779,
          10643,
          5373,
          8872,
          8132,
          1285,
          4407,
          7530,
          869,
          2096,
          868,
          430,
          283,
          737,
          2320,
          1178,
          9735,
          3347,
          8693,
          3232,
          35009,
          206,
          440,
          145,
          774,
          895,
          5639,
          3252,
          1593,
          2561,
          1336,
          910,
          133,
          2471,
          247,
          673,
          2276,
          805,
          8853,
          3220,
          2555,
          2715,
          1517,
          1647,
          5343,
          3896,
          2417,
          2395,
          1991,
          2194,
          8195,
          880,
          142,
          6316,
          346,
          576,
          436,
          720,
          1170,
          4575,
          661,
          155,
          825,
          2279,
          8425,
          118,
          926,
          1286,
          4052,
          853,
          531,
          3001,
          779,
          75,
          233,
          317,
          3378,
          930,
          398,
          824,
          1092,
          2665,
          2367,
          2540,
          4425,
          993,
          405,
          1393,
          2399,
          1116,
          651,
          333,
          937,
          2515,
          52,
          1752,
          1152,
          4477,
          402,
          443,
          74,
          2181,
          3470,
          6269,
          2758,
          275,
          7332,
          890,
          547,
          959,
          806,
          7888,
          1127,
          3527,
          520,
          3941,
          3549,
          469,
          1383,
          955,
          878,
          2946,
          1859,
          864,
          1801,
          4736,
          1291,
          1329,
          913,
          1374,
          179,
          2532,
          1285,
          2306,
          1765,
          91,
          7496,
          5612,
          784,
          660,
          1759,
          2286,
          950,
          6845,
          8321,
          1439,
          937,
          4260,
          1218,
          2312,
          4634,
          1112,
          3752,
          561,
          1183,
          230,
          1777,
          2077,
          559,
          6340,
          1730,
          6746,
          7683,
          4686,
          453,
          5004,
          327,
          6818,
          982,
          4324,
          61,
          10155,
          2221,
          3975,
          1069,
          2516,
          5500,
          1120,
          529,
          744,
          862,
          16919,
          5845,
          1293,
          977,
          1093,
          1619,
          8366,
          848,
          502,
          2507,
          3838,
          902,
          909,
          417,
          3045,
          1455,
          934,
          264,
          824,
          1809,
          364,
          492,
          617,
          799,
          1840,
          1149,
          416,
          1465,
          12569,
          1274,
          4447,
          1483,
          662,
          2679,
          978,
          2121,
          1128,
          514,
          2714,
          3703,
          915,
          3498,
          414,
          7849,
          5127,
          3570,
          1234,
          2208,
          131,
          11559,
          650,
          8170,
          15601,
          9584,
          388,
          767,
          349,
          1456,
          2234,
          402,
          2693,
          1341,
          2005,
          1796,
          1741,
          830,
          228,
          6386,
          245,
          3157,
          137,
          6114,
          340,
          2601,
          1206,
          560,
          191,
          1103,
          1619,
          1173,
          1457,
          2046,
          1089,
          8164,
          876,
          1504,
          1492,
          597,
          5641,
          282,
          130,
          9927,
          4006,
          3635,
          2583,
          1945,
          1960,
          1677,
          3019,
          5502,
          907,
          659,
          1398,
          2921,
          2644,
          6838,
          5390,
          1601,
          3576,
          4324,
          2069,
          2854,
          1646,
          2349,
          1389,
          1535,
          98,
          17866,
          5679,
          1691,
          848,
          364,
          133,
          633,
          25,
          1031,
          1059,
          874,
          15348,
          3141,
          2198,
          47,
          575,
          13486,
          269,
          1541,
          688,
          437,
          1038,
          65
         ],
         "z": [
          7561,
          9568,
          7684,
          4221,
          5126,
          6975,
          9426,
          6192,
          18881,
          12974,
          4523,
          14982,
          3821,
          12121,
          2933,
          10099,
          9464,
          4602,
          2010,
          7595,
          2861,
          3045,
          25957,
          11107,
          3133,
          2886,
          2262,
          11091,
          12477,
          16709,
          5956,
          14961,
          23998,
          10471,
          21531,
          21955,
          10868,
          28921,
          1980,
          6996,
          11532,
          5005,
          26866,
          10487,
          1648,
          8040,
          7854,
          6544,
          15775,
          3250,
          45828,
          7417,
          13462,
          3993,
          1293,
          3202,
          21042,
          2661,
          8713,
          9794,
          3,
          6532,
          28540,
          2067,
          3655,
          3009,
          14403,
          11009,
          1783,
          4814,
          4042,
          1638,
          2530,
          32034,
          2062,
          11323,
          6252,
          8118,
          610,
          778,
          1909,
          12144,
          16267,
          7677,
          3445,
          3970,
          10704,
          14886,
          6981,
          28986,
          1694,
          17569,
          2469,
          1733,
          2000,
          2988,
          3355,
          5380,
          2362,
          2147,
          3412,
          1498,
          245,
          8814,
          1658,
          10685,
          3823,
          699,
          314,
          2479,
          1235,
          2174,
          2591,
          7030,
          8282,
          5034,
          3343,
          7305,
          1096,
          1988,
          2177,
          2707,
          542,
          1765,
          2022,
          3135,
          2368,
          137,
          19460,
          14855,
          2474,
          9618,
          14682,
          12822,
          283,
          3810,
          26870,
          8584,
          19858,
          9170,
          3268,
          803,
          2155,
          13430,
          19816,
          6536,
          19805,
          5241,
          11874,
          4533,
          4945,
          2500,
          8887,
          10518,
          4710,
          1139,
          854,
          9819,
          11687,
          11522,
          1981,
          1381,
          2251,
          20292,
          2974,
          5230,
          10391,
          6824,
          2112,
          23127,
          24708,
          2216,
          5226,
          23596,
          950,
          6089,
          5838,
          16767,
          1393,
          39694,
          2062,
          6861,
          11364,
          15538,
          36486,
          2046,
          15205,
          1390,
          1382,
          10646,
          2856,
          5265,
          1499,
          4157,
          9212,
          1563,
          572,
          2501,
          5615,
          3828,
          3316,
          3833,
          2824,
          3047,
          593,
          585,
          2914,
          5119,
          10817,
          13916,
          1777,
          489,
          2406,
          2070,
          1799,
          33586,
          4740,
          4748,
          5249,
          1883,
          2157,
          1094,
          1677,
          6684,
          15445,
          13699,
          22182,
          2576,
          19847,
          1138,
          975,
          1563,
          6869,
          1841,
          223,
          683,
          2543,
          9694,
          2431,
          6235,
          1242,
          2828,
          1296,
          2642,
          3261,
          4329,
          12469,
          6550,
          5234,
          3643,
          6986,
          9965,
          2060,
          6360,
          20399,
          9785,
          13829,
          24773,
          8852,
          21570,
          2842,
          3007,
          13567,
          2405,
          19172,
          2405,
          7647,
          11924,
          2201,
          6114,
          3558,
          17645,
          2280,
          5167,
          3315,
          11593,
          1431,
          1664,
          3389,
          4583,
          5109,
          26839,
          1447,
          67298,
          2743,
          1330,
          2611,
          7021,
          5332,
          9670,
          11238,
          5923,
          26316,
          1763,
          8335,
          15541,
          2028,
          20521,
          1997,
          22294,
          1533,
          21203,
          2548,
          2012,
          218,
          22272,
          1660,
          2109,
          2006,
          864,
          2453,
          4438,
          1524,
          8025,
          1664,
          534,
          2406,
          683,
          1939,
          1641,
          7398,
          1668,
          1162,
          13586,
          1902,
          10391,
          1617,
          3450,
          15400,
          1614,
          2857,
          1573,
          1172,
          1422,
          1328,
          2313,
          3600,
          3204,
          1263,
          9345,
          1428,
          582,
          935,
          1238,
          3444,
          1167,
          18683,
          6407,
          6100,
          4563,
          3281,
          12400,
          6633,
          3417,
          8552,
          10908,
          11055,
          18622,
          2223,
          13227,
          9053,
          4657,
          12232,
          2593,
          14316,
          4910,
          3580,
          16483,
          5160,
          4754,
          1493,
          7994,
          30243,
          2232,
          2510
         ]
        },
        {
         "marker": {
          "size": 2
         },
         "mode": "markers",
         "name": "Cluster 1",
         "type": "scatter3d",
         "x": [
          22615,
          31714,
          24653,
          31276,
          26373,
          22647,
          43088,
          29729,
          29955,
          56159,
          24025,
          44466,
          40721,
          27329,
          35942,
          16117,
          22925,
          43265,
          24904,
          56082,
          36050,
          76237,
          42312,
          30379,
          37036,
          22039,
          31812,
          45640,
          112151,
          36847,
          30624,
          25203,
          25962,
          47493,
          22096,
          24929,
          29526,
          31614,
          56083,
          53205,
          36817,
          27901,
          49063,
          25767,
          68951,
          40254,
          42786,
          29635,
          25977,
          32717,
          27082,
          27380,
          39679,
          38793,
          28257,
          34454,
          23632,
          27167,
          26539,
          25606,
          25066,
          26400,
          31012,
          29703,
          39228
         ],
         "y": [
          3915,
          287,
          294,
          9408,
          5154,
          2915,
          1200,
          6130,
          1729,
          10002,
          9510,
          7782,
          532,
          2436,
          3254,
          1026,
          987,
          6312,
          3443,
          18028,
          4787,
          16538,
          1718,
          321,
          2995,
          42,
          800,
          7368,
          16745,
          36534,
          18711,
          5065,
          638,
          5243,
          11422,
          2216,
          432,
          3242,
          6422,
          3012,
          4802,
          4479,
          5970,
          10303,
          8692,
          1042,
          1388,
          3046,
          2369,
          60869,
          1365,
          2809,
          1364,
          1034,
          3881,
          2540,
          8620,
          13223,
          220,
          127,
          9806,
          830,
          15082,
          13135,
          4510
         ],
         "z": [
          7198,
          11757,
          12091,
          4469,
          22019,
          13792,
          2609,
          7326,
          5428,
          902,
          4757,
          55571,
          5876,
          1947,
          59598,
          92780,
          32114,
          8117,
          5330,
          8906,
          2961,
          7102,
          1510,
          5189,
          8253,
          34792,
          1651,
          6536,
          18148,
          20170,
          4897,
          9490,
          3838,
          3779,
          7041,
          2475,
          16966,
          1495,
          2124,
          7336,
          1493,
          6964,
          4252,
          2013,
          12609,
          3600,
          471,
          8280,
          2464,
          13626,
          10790,
          12311,
          4955,
          2648,
          2146,
          8469,
          3842,
          2128,
          5091,
          4604,
          5026,
          4172,
          5429,
          16027,
          764
         ]
        }
       ],
       "layout": {
        "scene": {
         "xaxis": {
          "title": {
           "text": "Fresh"
          }
         },
         "yaxis": {
          "title": {
           "text": "Frozen"
          }
         },
         "zaxis": {
          "title": {
           "text": "Grocery"
          }
         }
        },
        "template": {
         "data": {
          "bar": [
           {
            "error_x": {
             "color": "#2a3f5f"
            },
            "error_y": {
             "color": "#2a3f5f"
            },
            "marker": {
             "line": {
              "color": "#E5ECF6",
              "width": 0.5
             }
            },
            "type": "bar"
           }
          ],
          "barpolar": [
           {
            "marker": {
             "line": {
              "color": "#E5ECF6",
              "width": 0.5
             }
            },
            "type": "barpolar"
           }
          ],
          "carpet": [
           {
            "aaxis": {
             "endlinecolor": "#2a3f5f",
             "gridcolor": "white",
             "linecolor": "white",
             "minorgridcolor": "white",
             "startlinecolor": "#2a3f5f"
            },
            "baxis": {
             "endlinecolor": "#2a3f5f",
             "gridcolor": "white",
             "linecolor": "white",
             "minorgridcolor": "white",
             "startlinecolor": "#2a3f5f"
            },
            "type": "carpet"
           }
          ],
          "choropleth": [
           {
            "colorbar": {
             "outlinewidth": 0,
             "ticks": ""
            },
            "type": "choropleth"
           }
          ],
          "contour": [
           {
            "colorbar": {
             "outlinewidth": 0,
             "ticks": ""
            },
            "colorscale": [
             [
              0,
              "#0d0887"
             ],
             [
              0.1111111111111111,
              "#46039f"
             ],
             [
              0.2222222222222222,
              "#7201a8"
             ],
             [
              0.3333333333333333,
              "#9c179e"
             ],
             [
              0.4444444444444444,
              "#bd3786"
             ],
             [
              0.5555555555555556,
              "#d8576b"
             ],
             [
              0.6666666666666666,
              "#ed7953"
             ],
             [
              0.7777777777777778,
              "#fb9f3a"
             ],
             [
              0.8888888888888888,
              "#fdca26"
             ],
             [
              1,
              "#f0f921"
             ]
            ],
            "type": "contour"
           }
          ],
          "contourcarpet": [
           {
            "colorbar": {
             "outlinewidth": 0,
             "ticks": ""
            },
            "type": "contourcarpet"
           }
          ],
          "heatmap": [
           {
            "colorbar": {
             "outlinewidth": 0,
             "ticks": ""
            },
            "colorscale": [
             [
              0,
              "#0d0887"
             ],
             [
              0.1111111111111111,
              "#46039f"
             ],
             [
              0.2222222222222222,
              "#7201a8"
             ],
             [
              0.3333333333333333,
              "#9c179e"
             ],
             [
              0.4444444444444444,
              "#bd3786"
             ],
             [
              0.5555555555555556,
              "#d8576b"
             ],
             [
              0.6666666666666666,
              "#ed7953"
             ],
             [
              0.7777777777777778,
              "#fb9f3a"
             ],
             [
              0.8888888888888888,
              "#fdca26"
             ],
             [
              1,
              "#f0f921"
             ]
            ],
            "type": "heatmap"
           }
          ],
          "heatmapgl": [
           {
            "colorbar": {
             "outlinewidth": 0,
             "ticks": ""
            },
            "colorscale": [
             [
              0,
              "#0d0887"
             ],
             [
              0.1111111111111111,
              "#46039f"
             ],
             [
              0.2222222222222222,
              "#7201a8"
             ],
             [
              0.3333333333333333,
              "#9c179e"
             ],
             [
              0.4444444444444444,
              "#bd3786"
             ],
             [
              0.5555555555555556,
              "#d8576b"
             ],
             [
              0.6666666666666666,
              "#ed7953"
             ],
             [
              0.7777777777777778,
              "#fb9f3a"
             ],
             [
              0.8888888888888888,
              "#fdca26"
             ],
             [
              1,
              "#f0f921"
             ]
            ],
            "type": "heatmapgl"
           }
          ],
          "histogram": [
           {
            "marker": {
             "colorbar": {
              "outlinewidth": 0,
              "ticks": ""
             }
            },
            "type": "histogram"
           }
          ],
          "histogram2d": [
           {
            "colorbar": {
             "outlinewidth": 0,
             "ticks": ""
            },
            "colorscale": [
             [
              0,
              "#0d0887"
             ],
             [
              0.1111111111111111,
              "#46039f"
             ],
             [
              0.2222222222222222,
              "#7201a8"
             ],
             [
              0.3333333333333333,
              "#9c179e"
             ],
             [
              0.4444444444444444,
              "#bd3786"
             ],
             [
              0.5555555555555556,
              "#d8576b"
             ],
             [
              0.6666666666666666,
              "#ed7953"
             ],
             [
              0.7777777777777778,
              "#fb9f3a"
             ],
             [
              0.8888888888888888,
              "#fdca26"
             ],
             [
              1,
              "#f0f921"
             ]
            ],
            "type": "histogram2d"
           }
          ],
          "histogram2dcontour": [
           {
            "colorbar": {
             "outlinewidth": 0,
             "ticks": ""
            },
            "colorscale": [
             [
              0,
              "#0d0887"
             ],
             [
              0.1111111111111111,
              "#46039f"
             ],
             [
              0.2222222222222222,
              "#7201a8"
             ],
             [
              0.3333333333333333,
              "#9c179e"
             ],
             [
              0.4444444444444444,
              "#bd3786"
             ],
             [
              0.5555555555555556,
              "#d8576b"
             ],
             [
              0.6666666666666666,
              "#ed7953"
             ],
             [
              0.7777777777777778,
              "#fb9f3a"
             ],
             [
              0.8888888888888888,
              "#fdca26"
             ],
             [
              1,
              "#f0f921"
             ]
            ],
            "type": "histogram2dcontour"
           }
          ],
          "mesh3d": [
           {
            "colorbar": {
             "outlinewidth": 0,
             "ticks": ""
            },
            "type": "mesh3d"
           }
          ],
          "parcoords": [
           {
            "line": {
             "colorbar": {
              "outlinewidth": 0,
              "ticks": ""
             }
            },
            "type": "parcoords"
           }
          ],
          "pie": [
           {
            "automargin": true,
            "type": "pie"
           }
          ],
          "scatter": [
           {
            "marker": {
             "colorbar": {
              "outlinewidth": 0,
              "ticks": ""
             }
            },
            "type": "scatter"
           }
          ],
          "scatter3d": [
           {
            "line": {
             "colorbar": {
              "outlinewidth": 0,
              "ticks": ""
             }
            },
            "marker": {
             "colorbar": {
              "outlinewidth": 0,
              "ticks": ""
             }
            },
            "type": "scatter3d"
           }
          ],
          "scattercarpet": [
           {
            "marker": {
             "colorbar": {
              "outlinewidth": 0,
              "ticks": ""
             }
            },
            "type": "scattercarpet"
           }
          ],
          "scattergeo": [
           {
            "marker": {
             "colorbar": {
              "outlinewidth": 0,
              "ticks": ""
             }
            },
            "type": "scattergeo"
           }
          ],
          "scattergl": [
           {
            "marker": {
             "colorbar": {
              "outlinewidth": 0,
              "ticks": ""
             }
            },
            "type": "scattergl"
           }
          ],
          "scattermapbox": [
           {
            "marker": {
             "colorbar": {
              "outlinewidth": 0,
              "ticks": ""
             }
            },
            "type": "scattermapbox"
           }
          ],
          "scatterpolar": [
           {
            "marker": {
             "colorbar": {
              "outlinewidth": 0,
              "ticks": ""
             }
            },
            "type": "scatterpolar"
           }
          ],
          "scatterpolargl": [
           {
            "marker": {
             "colorbar": {
              "outlinewidth": 0,
              "ticks": ""
             }
            },
            "type": "scatterpolargl"
           }
          ],
          "scatterternary": [
           {
            "marker": {
             "colorbar": {
              "outlinewidth": 0,
              "ticks": ""
             }
            },
            "type": "scatterternary"
           }
          ],
          "surface": [
           {
            "colorbar": {
             "outlinewidth": 0,
             "ticks": ""
            },
            "colorscale": [
             [
              0,
              "#0d0887"
             ],
             [
              0.1111111111111111,
              "#46039f"
             ],
             [
              0.2222222222222222,
              "#7201a8"
             ],
             [
              0.3333333333333333,
              "#9c179e"
             ],
             [
              0.4444444444444444,
              "#bd3786"
             ],
             [
              0.5555555555555556,
              "#d8576b"
             ],
             [
              0.6666666666666666,
              "#ed7953"
             ],
             [
              0.7777777777777778,
              "#fb9f3a"
             ],
             [
              0.8888888888888888,
              "#fdca26"
             ],
             [
              1,
              "#f0f921"
             ]
            ],
            "type": "surface"
           }
          ],
          "table": [
           {
            "cells": {
             "fill": {
              "color": "#EBF0F8"
             },
             "line": {
              "color": "white"
             }
            },
            "header": {
             "fill": {
              "color": "#C8D4E3"
             },
             "line": {
              "color": "white"
             }
            },
            "type": "table"
           }
          ]
         },
         "layout": {
          "annotationdefaults": {
           "arrowcolor": "#2a3f5f",
           "arrowhead": 0,
           "arrowwidth": 1
          },
          "autotypenumbers": "strict",
          "coloraxis": {
           "colorbar": {
            "outlinewidth": 0,
            "ticks": ""
           }
          },
          "colorscale": {
           "diverging": [
            [
             0,
             "#8e0152"
            ],
            [
             0.1,
             "#c51b7d"
            ],
            [
             0.2,
             "#de77ae"
            ],
            [
             0.3,
             "#f1b6da"
            ],
            [
             0.4,
             "#fde0ef"
            ],
            [
             0.5,
             "#f7f7f7"
            ],
            [
             0.6,
             "#e6f5d0"
            ],
            [
             0.7,
             "#b8e186"
            ],
            [
             0.8,
             "#7fbc41"
            ],
            [
             0.9,
             "#4d9221"
            ],
            [
             1,
             "#276419"
            ]
           ],
           "sequential": [
            [
             0,
             "#0d0887"
            ],
            [
             0.1111111111111111,
             "#46039f"
            ],
            [
             0.2222222222222222,
             "#7201a8"
            ],
            [
             0.3333333333333333,
             "#9c179e"
            ],
            [
             0.4444444444444444,
             "#bd3786"
            ],
            [
             0.5555555555555556,
             "#d8576b"
            ],
            [
             0.6666666666666666,
             "#ed7953"
            ],
            [
             0.7777777777777778,
             "#fb9f3a"
            ],
            [
             0.8888888888888888,
             "#fdca26"
            ],
            [
             1,
             "#f0f921"
            ]
           ],
           "sequentialminus": [
            [
             0,
             "#0d0887"
            ],
            [
             0.1111111111111111,
             "#46039f"
            ],
            [
             0.2222222222222222,
             "#7201a8"
            ],
            [
             0.3333333333333333,
             "#9c179e"
            ],
            [
             0.4444444444444444,
             "#bd3786"
            ],
            [
             0.5555555555555556,
             "#d8576b"
            ],
            [
             0.6666666666666666,
             "#ed7953"
            ],
            [
             0.7777777777777778,
             "#fb9f3a"
            ],
            [
             0.8888888888888888,
             "#fdca26"
            ],
            [
             1,
             "#f0f921"
            ]
           ]
          },
          "colorway": [
           "#636efa",
           "#EF553B",
           "#00cc96",
           "#ab63fa",
           "#FFA15A",
           "#19d3f3",
           "#FF6692",
           "#B6E880",
           "#FF97FF",
           "#FECB52"
          ],
          "font": {
           "color": "#2a3f5f"
          },
          "geo": {
           "bgcolor": "white",
           "lakecolor": "white",
           "landcolor": "#E5ECF6",
           "showlakes": true,
           "showland": true,
           "subunitcolor": "white"
          },
          "hoverlabel": {
           "align": "left"
          },
          "hovermode": "closest",
          "mapbox": {
           "style": "light"
          },
          "paper_bgcolor": "white",
          "plot_bgcolor": "#E5ECF6",
          "polar": {
           "angularaxis": {
            "gridcolor": "white",
            "linecolor": "white",
            "ticks": ""
           },
           "bgcolor": "#E5ECF6",
           "radialaxis": {
            "gridcolor": "white",
            "linecolor": "white",
            "ticks": ""
           }
          },
          "scene": {
           "xaxis": {
            "backgroundcolor": "#E5ECF6",
            "gridcolor": "white",
            "gridwidth": 2,
            "linecolor": "white",
            "showbackground": true,
            "ticks": "",
            "zerolinecolor": "white"
           },
           "yaxis": {
            "backgroundcolor": "#E5ECF6",
            "gridcolor": "white",
            "gridwidth": 2,
            "linecolor": "white",
            "showbackground": true,
            "ticks": "",
            "zerolinecolor": "white"
           },
           "zaxis": {
            "backgroundcolor": "#E5ECF6",
            "gridcolor": "white",
            "gridwidth": 2,
            "linecolor": "white",
            "showbackground": true,
            "ticks": "",
            "zerolinecolor": "white"
           }
          },
          "shapedefaults": {
           "line": {
            "color": "#2a3f5f"
           }
          },
          "ternary": {
           "aaxis": {
            "gridcolor": "white",
            "linecolor": "white",
            "ticks": ""
           },
           "baxis": {
            "gridcolor": "white",
            "linecolor": "white",
            "ticks": ""
           },
           "bgcolor": "#E5ECF6",
           "caxis": {
            "gridcolor": "white",
            "linecolor": "white",
            "ticks": ""
           }
          },
          "title": {
           "x": 0.05
          },
          "xaxis": {
           "automargin": true,
           "gridcolor": "white",
           "linecolor": "white",
           "ticks": "",
           "title": {
            "standoff": 15
           },
           "zerolinecolor": "white",
           "zerolinewidth": 2
          },
          "yaxis": {
           "automargin": true,
           "gridcolor": "white",
           "linecolor": "white",
           "ticks": "",
           "title": {
            "standoff": 15
           },
           "zerolinecolor": "white",
           "zerolinewidth": 2
          }
         }
        },
        "title": {
         "text": "Clusters by K-Means"
        }
       }
      },
      "text/html": [
       "<div>                            <div id=\"fe08246a-ed3b-4c2f-b1f6-2d9641e2f397\" class=\"plotly-graph-div\" style=\"height:525px; width:100%;\"></div>            <script type=\"text/javascript\">                require([\"plotly\"], function(Plotly) {                    window.PLOTLYENV=window.PLOTLYENV || {};                                    if (document.getElementById(\"fe08246a-ed3b-4c2f-b1f6-2d9641e2f397\")) {                    Plotly.newPlot(                        \"fe08246a-ed3b-4c2f-b1f6-2d9641e2f397\",                        [{\"marker\": {\"size\": 2}, \"mode\": \"markers\", \"name\": \"Cluster 0\", \"type\": \"scatter3d\", \"x\": [12669, 7057, 6353, 13265, 9413, 12126, 7579, 5963, 6006, 3366, 13146, 21217, 10253, 1020, 5876, 18601, 7780, 17546, 5567, 16165, 9898, 14276, 4113, 18815, 2612, 21632, 1502, 688, 15168, 4591, 19176, 10850, 630, 9670, 5181, 3103, 11519, 4967, 6269, 3347, 491, 5264, 4098, 5417, 13779, 6137, 8590, 7823, 9396, 4760, 85, 9, 19913, 2446, 8352, 16705, 18291, 4420, 19899, 8190, 20398, 717, 12205, 10766, 1640, 7005, 219, 10362, 20874, 11867, 7864, 11405, 12754, 9198, 11314, 5626, 3, 23, 403, 503, 9658, 11594, 1420, 2932, 14100, 15587, 1454, 8797, 1531, 1406, 11818, 12579, 19046, 14438, 18044, 11134, 11173, 6990, 20049, 8258, 17160, 4020, 12212, 11170, 19219, 21465, 140, 7149, 2101, 14903, 9434, 7388, 6300, 4625, 3087, 13537, 5387, 17623, 10405, 18827, 7769, 9203, 5924, 16225, 1289, 18840, 3463, 622, 1989, 3830, 17773, 2861, 355, 1725, 12434, 15177, 5531, 5224, 15615, 4822, 2926, 5809, 5414, 260, 200, 955, 514, 286, 2343, 12759, 11002, 3157, 12356, 694, 327, 8170, 3009, 2438, 8040, 834, 16936, 13624, 5509, 180, 7107, 17023, 2427, 11686, 9670, 3067, 4484, 583, 1956, 1107, 6373, 2541, 1537, 5550, 18567, 12119, 7291, 3317, 2362, 2806, 2532, 18044, 18, 4155, 14755, 5396, 5041, 2790, 7274, 12680, 20782, 4042, 1869, 8656, 11072, 2344, 964, 15603, 1838, 8635, 18692, 7363, 18226, 11210, 6202, 3062, 8885, 13569, 15671, 8040, 3191, 6134, 6623, 10379, 11092, 8475, 9193, 7858, 23257, 2153, 1073, 5909, 572, 20893, 11908, 15218, 4720, 2083, 514, 894, 680, 9061, 11693, 17360, 3366, 12238, 7149, 15354, 16260, 2708, 6022, 2838, 3996, 21273, 7588, 19087, 8090, 6758, 444, 16448, 5283, 2886, 2599, 161, 243, 6468, 17327, 6987, 918, 7034, 2137, 9784, 10617, 1479, 7127, 1182, 11800, 9759, 1774, 9155, 15881, 13360, 4414, 542, 16933, 5113, 9790, 11223, 22321, 8565, 16823, 13970, 9351, 3, 2617, 381, 2320, 255, 1689, 3043, 1198, 2771, 3428, 5981, 3521, 1210, 608, 117, 14039, 190, 22686, 37, 759, 796, 19746, 4734, 2121, 4627, 2615, 4692, 9561, 3477, 22335, 6211, 20105, 3884, 15076, 6338, 5841, 3136, 3225, 4048, 17770, 1821, 10683, 11635, 1206, 20918, 9785, 9385, 3352, 2647, 518, 12377, 9602, 4515, 11535, 11442, 9612, 4446, 18073, 6884, 7362, 8257, 8708, 6633, 2126, 97, 4983, 5969, 7842, 4389, 5065, 660, 8861, 4456, 17063, 17565, 16980, 11243, 13134, 3047, 8607, 3097, 8533, 21117, 1982, 16731, 14531, 10290, 2787], \"y\": [214, 1762, 2405, 6404, 666, 480, 1669, 425, 1159, 4400, 1420, 3095, 397, 134, 839, 2205, 669, 1066, 3383, 201, 3151, 485, 1158, 1148, 2088, 266, 425, 833, 1920, 33, 2033, 188, 787, 541, 1740, 1668, 584, 1798, 3860, 239, 744, 1057, 2616, 38, 596, 129, 96, 4154, 2896, 3724, 36, 175, 1256, 5870, 779, 10643, 5373, 8872, 8132, 1285, 4407, 7530, 869, 2096, 868, 430, 283, 737, 2320, 1178, 9735, 3347, 8693, 3232, 35009, 206, 440, 145, 774, 895, 5639, 3252, 1593, 2561, 1336, 910, 133, 2471, 247, 673, 2276, 805, 8853, 3220, 2555, 2715, 1517, 1647, 5343, 3896, 2417, 2395, 1991, 2194, 8195, 880, 142, 6316, 346, 576, 436, 720, 1170, 4575, 661, 155, 825, 2279, 8425, 118, 926, 1286, 4052, 853, 531, 3001, 779, 75, 233, 317, 3378, 930, 398, 824, 1092, 2665, 2367, 2540, 4425, 993, 405, 1393, 2399, 1116, 651, 333, 937, 2515, 52, 1752, 1152, 4477, 402, 443, 74, 2181, 3470, 6269, 2758, 275, 7332, 890, 547, 959, 806, 7888, 1127, 3527, 520, 3941, 3549, 469, 1383, 955, 878, 2946, 1859, 864, 1801, 4736, 1291, 1329, 913, 1374, 179, 2532, 1285, 2306, 1765, 91, 7496, 5612, 784, 660, 1759, 2286, 950, 6845, 8321, 1439, 937, 4260, 1218, 2312, 4634, 1112, 3752, 561, 1183, 230, 1777, 2077, 559, 6340, 1730, 6746, 7683, 4686, 453, 5004, 327, 6818, 982, 4324, 61, 10155, 2221, 3975, 1069, 2516, 5500, 1120, 529, 744, 862, 16919, 5845, 1293, 977, 1093, 1619, 8366, 848, 502, 2507, 3838, 902, 909, 417, 3045, 1455, 934, 264, 824, 1809, 364, 492, 617, 799, 1840, 1149, 416, 1465, 12569, 1274, 4447, 1483, 662, 2679, 978, 2121, 1128, 514, 2714, 3703, 915, 3498, 414, 7849, 5127, 3570, 1234, 2208, 131, 11559, 650, 8170, 15601, 9584, 388, 767, 349, 1456, 2234, 402, 2693, 1341, 2005, 1796, 1741, 830, 228, 6386, 245, 3157, 137, 6114, 340, 2601, 1206, 560, 191, 1103, 1619, 1173, 1457, 2046, 1089, 8164, 876, 1504, 1492, 597, 5641, 282, 130, 9927, 4006, 3635, 2583, 1945, 1960, 1677, 3019, 5502, 907, 659, 1398, 2921, 2644, 6838, 5390, 1601, 3576, 4324, 2069, 2854, 1646, 2349, 1389, 1535, 98, 17866, 5679, 1691, 848, 364, 133, 633, 25, 1031, 1059, 874, 15348, 3141, 2198, 47, 575, 13486, 269, 1541, 688, 437, 1038, 65], \"z\": [7561, 9568, 7684, 4221, 5126, 6975, 9426, 6192, 18881, 12974, 4523, 14982, 3821, 12121, 2933, 10099, 9464, 4602, 2010, 7595, 2861, 3045, 25957, 11107, 3133, 2886, 2262, 11091, 12477, 16709, 5956, 14961, 23998, 10471, 21531, 21955, 10868, 28921, 1980, 6996, 11532, 5005, 26866, 10487, 1648, 8040, 7854, 6544, 15775, 3250, 45828, 7417, 13462, 3993, 1293, 3202, 21042, 2661, 8713, 9794, 3, 6532, 28540, 2067, 3655, 3009, 14403, 11009, 1783, 4814, 4042, 1638, 2530, 32034, 2062, 11323, 6252, 8118, 610, 778, 1909, 12144, 16267, 7677, 3445, 3970, 10704, 14886, 6981, 28986, 1694, 17569, 2469, 1733, 2000, 2988, 3355, 5380, 2362, 2147, 3412, 1498, 245, 8814, 1658, 10685, 3823, 699, 314, 2479, 1235, 2174, 2591, 7030, 8282, 5034, 3343, 7305, 1096, 1988, 2177, 2707, 542, 1765, 2022, 3135, 2368, 137, 19460, 14855, 2474, 9618, 14682, 12822, 283, 3810, 26870, 8584, 19858, 9170, 3268, 803, 2155, 13430, 19816, 6536, 19805, 5241, 11874, 4533, 4945, 2500, 8887, 10518, 4710, 1139, 854, 9819, 11687, 11522, 1981, 1381, 2251, 20292, 2974, 5230, 10391, 6824, 2112, 23127, 24708, 2216, 5226, 23596, 950, 6089, 5838, 16767, 1393, 39694, 2062, 6861, 11364, 15538, 36486, 2046, 15205, 1390, 1382, 10646, 2856, 5265, 1499, 4157, 9212, 1563, 572, 2501, 5615, 3828, 3316, 3833, 2824, 3047, 593, 585, 2914, 5119, 10817, 13916, 1777, 489, 2406, 2070, 1799, 33586, 4740, 4748, 5249, 1883, 2157, 1094, 1677, 6684, 15445, 13699, 22182, 2576, 19847, 1138, 975, 1563, 6869, 1841, 223, 683, 2543, 9694, 2431, 6235, 1242, 2828, 1296, 2642, 3261, 4329, 12469, 6550, 5234, 3643, 6986, 9965, 2060, 6360, 20399, 9785, 13829, 24773, 8852, 21570, 2842, 3007, 13567, 2405, 19172, 2405, 7647, 11924, 2201, 6114, 3558, 17645, 2280, 5167, 3315, 11593, 1431, 1664, 3389, 4583, 5109, 26839, 1447, 67298, 2743, 1330, 2611, 7021, 5332, 9670, 11238, 5923, 26316, 1763, 8335, 15541, 2028, 20521, 1997, 22294, 1533, 21203, 2548, 2012, 218, 22272, 1660, 2109, 2006, 864, 2453, 4438, 1524, 8025, 1664, 534, 2406, 683, 1939, 1641, 7398, 1668, 1162, 13586, 1902, 10391, 1617, 3450, 15400, 1614, 2857, 1573, 1172, 1422, 1328, 2313, 3600, 3204, 1263, 9345, 1428, 582, 935, 1238, 3444, 1167, 18683, 6407, 6100, 4563, 3281, 12400, 6633, 3417, 8552, 10908, 11055, 18622, 2223, 13227, 9053, 4657, 12232, 2593, 14316, 4910, 3580, 16483, 5160, 4754, 1493, 7994, 30243, 2232, 2510]}, {\"marker\": {\"size\": 2}, \"mode\": \"markers\", \"name\": \"Cluster 1\", \"type\": \"scatter3d\", \"x\": [22615, 31714, 24653, 31276, 26373, 22647, 43088, 29729, 29955, 56159, 24025, 44466, 40721, 27329, 35942, 16117, 22925, 43265, 24904, 56082, 36050, 76237, 42312, 30379, 37036, 22039, 31812, 45640, 112151, 36847, 30624, 25203, 25962, 47493, 22096, 24929, 29526, 31614, 56083, 53205, 36817, 27901, 49063, 25767, 68951, 40254, 42786, 29635, 25977, 32717, 27082, 27380, 39679, 38793, 28257, 34454, 23632, 27167, 26539, 25606, 25066, 26400, 31012, 29703, 39228], \"y\": [3915, 287, 294, 9408, 5154, 2915, 1200, 6130, 1729, 10002, 9510, 7782, 532, 2436, 3254, 1026, 987, 6312, 3443, 18028, 4787, 16538, 1718, 321, 2995, 42, 800, 7368, 16745, 36534, 18711, 5065, 638, 5243, 11422, 2216, 432, 3242, 6422, 3012, 4802, 4479, 5970, 10303, 8692, 1042, 1388, 3046, 2369, 60869, 1365, 2809, 1364, 1034, 3881, 2540, 8620, 13223, 220, 127, 9806, 830, 15082, 13135, 4510], \"z\": [7198, 11757, 12091, 4469, 22019, 13792, 2609, 7326, 5428, 902, 4757, 55571, 5876, 1947, 59598, 92780, 32114, 8117, 5330, 8906, 2961, 7102, 1510, 5189, 8253, 34792, 1651, 6536, 18148, 20170, 4897, 9490, 3838, 3779, 7041, 2475, 16966, 1495, 2124, 7336, 1493, 6964, 4252, 2013, 12609, 3600, 471, 8280, 2464, 13626, 10790, 12311, 4955, 2648, 2146, 8469, 3842, 2128, 5091, 4604, 5026, 4172, 5429, 16027, 764]}],                        {\"scene\": {\"xaxis\": {\"title\": {\"text\": \"Fresh\"}}, \"yaxis\": {\"title\": {\"text\": \"Frozen\"}}, \"zaxis\": {\"title\": {\"text\": \"Grocery\"}}}, \"template\": {\"data\": {\"bar\": [{\"error_x\": {\"color\": \"#2a3f5f\"}, \"error_y\": {\"color\": \"#2a3f5f\"}, \"marker\": {\"line\": {\"color\": \"#E5ECF6\", \"width\": 0.5}}, \"type\": \"bar\"}], \"barpolar\": [{\"marker\": {\"line\": {\"color\": \"#E5ECF6\", \"width\": 0.5}}, \"type\": \"barpolar\"}], \"carpet\": [{\"aaxis\": {\"endlinecolor\": \"#2a3f5f\", \"gridcolor\": \"white\", \"linecolor\": \"white\", \"minorgridcolor\": \"white\", \"startlinecolor\": \"#2a3f5f\"}, \"baxis\": {\"endlinecolor\": \"#2a3f5f\", \"gridcolor\": \"white\", \"linecolor\": \"white\", \"minorgridcolor\": \"white\", \"startlinecolor\": \"#2a3f5f\"}, \"type\": \"carpet\"}], \"choropleth\": [{\"colorbar\": {\"outlinewidth\": 0, \"ticks\": \"\"}, \"type\": \"choropleth\"}], \"contour\": [{\"colorbar\": {\"outlinewidth\": 0, \"ticks\": \"\"}, \"colorscale\": [[0.0, \"#0d0887\"], [0.1111111111111111, \"#46039f\"], [0.2222222222222222, \"#7201a8\"], [0.3333333333333333, \"#9c179e\"], [0.4444444444444444, \"#bd3786\"], [0.5555555555555556, \"#d8576b\"], [0.6666666666666666, \"#ed7953\"], [0.7777777777777778, \"#fb9f3a\"], [0.8888888888888888, \"#fdca26\"], [1.0, \"#f0f921\"]], \"type\": \"contour\"}], \"contourcarpet\": [{\"colorbar\": {\"outlinewidth\": 0, \"ticks\": \"\"}, \"type\": \"contourcarpet\"}], \"heatmap\": [{\"colorbar\": {\"outlinewidth\": 0, \"ticks\": \"\"}, \"colorscale\": [[0.0, \"#0d0887\"], [0.1111111111111111, \"#46039f\"], [0.2222222222222222, \"#7201a8\"], [0.3333333333333333, \"#9c179e\"], [0.4444444444444444, \"#bd3786\"], [0.5555555555555556, \"#d8576b\"], [0.6666666666666666, \"#ed7953\"], [0.7777777777777778, \"#fb9f3a\"], [0.8888888888888888, \"#fdca26\"], [1.0, \"#f0f921\"]], \"type\": \"heatmap\"}], \"heatmapgl\": [{\"colorbar\": {\"outlinewidth\": 0, \"ticks\": \"\"}, \"colorscale\": [[0.0, \"#0d0887\"], [0.1111111111111111, \"#46039f\"], [0.2222222222222222, \"#7201a8\"], [0.3333333333333333, \"#9c179e\"], [0.4444444444444444, \"#bd3786\"], [0.5555555555555556, \"#d8576b\"], [0.6666666666666666, \"#ed7953\"], [0.7777777777777778, \"#fb9f3a\"], [0.8888888888888888, \"#fdca26\"], [1.0, \"#f0f921\"]], \"type\": \"heatmapgl\"}], \"histogram\": [{\"marker\": {\"colorbar\": {\"outlinewidth\": 0, \"ticks\": \"\"}}, \"type\": \"histogram\"}], \"histogram2d\": [{\"colorbar\": {\"outlinewidth\": 0, \"ticks\": \"\"}, \"colorscale\": [[0.0, \"#0d0887\"], [0.1111111111111111, \"#46039f\"], [0.2222222222222222, \"#7201a8\"], [0.3333333333333333, \"#9c179e\"], [0.4444444444444444, \"#bd3786\"], [0.5555555555555556, \"#d8576b\"], [0.6666666666666666, \"#ed7953\"], [0.7777777777777778, \"#fb9f3a\"], [0.8888888888888888, \"#fdca26\"], [1.0, \"#f0f921\"]], \"type\": \"histogram2d\"}], \"histogram2dcontour\": [{\"colorbar\": {\"outlinewidth\": 0, \"ticks\": \"\"}, \"colorscale\": [[0.0, \"#0d0887\"], [0.1111111111111111, \"#46039f\"], [0.2222222222222222, \"#7201a8\"], [0.3333333333333333, \"#9c179e\"], [0.4444444444444444, \"#bd3786\"], [0.5555555555555556, \"#d8576b\"], [0.6666666666666666, \"#ed7953\"], [0.7777777777777778, \"#fb9f3a\"], [0.8888888888888888, \"#fdca26\"], [1.0, \"#f0f921\"]], \"type\": \"histogram2dcontour\"}], \"mesh3d\": [{\"colorbar\": {\"outlinewidth\": 0, \"ticks\": \"\"}, \"type\": \"mesh3d\"}], \"parcoords\": [{\"line\": {\"colorbar\": {\"outlinewidth\": 0, \"ticks\": \"\"}}, \"type\": \"parcoords\"}], \"pie\": [{\"automargin\": true, \"type\": \"pie\"}], \"scatter\": [{\"marker\": {\"colorbar\": {\"outlinewidth\": 0, \"ticks\": \"\"}}, \"type\": \"scatter\"}], \"scatter3d\": [{\"line\": {\"colorbar\": {\"outlinewidth\": 0, \"ticks\": \"\"}}, \"marker\": {\"colorbar\": {\"outlinewidth\": 0, \"ticks\": \"\"}}, \"type\": \"scatter3d\"}], \"scattercarpet\": [{\"marker\": {\"colorbar\": {\"outlinewidth\": 0, \"ticks\": \"\"}}, \"type\": \"scattercarpet\"}], \"scattergeo\": [{\"marker\": {\"colorbar\": {\"outlinewidth\": 0, \"ticks\": \"\"}}, \"type\": \"scattergeo\"}], \"scattergl\": [{\"marker\": {\"colorbar\": {\"outlinewidth\": 0, \"ticks\": \"\"}}, \"type\": \"scattergl\"}], \"scattermapbox\": [{\"marker\": {\"colorbar\": {\"outlinewidth\": 0, \"ticks\": \"\"}}, \"type\": \"scattermapbox\"}], \"scatterpolar\": [{\"marker\": {\"colorbar\": {\"outlinewidth\": 0, \"ticks\": \"\"}}, \"type\": \"scatterpolar\"}], \"scatterpolargl\": [{\"marker\": {\"colorbar\": {\"outlinewidth\": 0, \"ticks\": \"\"}}, \"type\": \"scatterpolargl\"}], \"scatterternary\": [{\"marker\": {\"colorbar\": {\"outlinewidth\": 0, \"ticks\": \"\"}}, \"type\": \"scatterternary\"}], \"surface\": [{\"colorbar\": {\"outlinewidth\": 0, \"ticks\": \"\"}, \"colorscale\": [[0.0, \"#0d0887\"], [0.1111111111111111, \"#46039f\"], [0.2222222222222222, \"#7201a8\"], [0.3333333333333333, \"#9c179e\"], [0.4444444444444444, \"#bd3786\"], [0.5555555555555556, \"#d8576b\"], [0.6666666666666666, \"#ed7953\"], [0.7777777777777778, \"#fb9f3a\"], [0.8888888888888888, \"#fdca26\"], [1.0, \"#f0f921\"]], \"type\": \"surface\"}], \"table\": [{\"cells\": {\"fill\": {\"color\": \"#EBF0F8\"}, \"line\": {\"color\": \"white\"}}, \"header\": {\"fill\": {\"color\": \"#C8D4E3\"}, \"line\": {\"color\": \"white\"}}, \"type\": \"table\"}]}, \"layout\": {\"annotationdefaults\": {\"arrowcolor\": \"#2a3f5f\", \"arrowhead\": 0, \"arrowwidth\": 1}, \"autotypenumbers\": \"strict\", \"coloraxis\": {\"colorbar\": {\"outlinewidth\": 0, \"ticks\": \"\"}}, \"colorscale\": {\"diverging\": [[0, \"#8e0152\"], [0.1, \"#c51b7d\"], [0.2, \"#de77ae\"], [0.3, \"#f1b6da\"], [0.4, \"#fde0ef\"], [0.5, \"#f7f7f7\"], [0.6, \"#e6f5d0\"], [0.7, \"#b8e186\"], [0.8, \"#7fbc41\"], [0.9, \"#4d9221\"], [1, \"#276419\"]], \"sequential\": [[0.0, \"#0d0887\"], [0.1111111111111111, \"#46039f\"], [0.2222222222222222, \"#7201a8\"], [0.3333333333333333, \"#9c179e\"], [0.4444444444444444, \"#bd3786\"], [0.5555555555555556, \"#d8576b\"], [0.6666666666666666, \"#ed7953\"], [0.7777777777777778, \"#fb9f3a\"], [0.8888888888888888, \"#fdca26\"], [1.0, \"#f0f921\"]], \"sequentialminus\": [[0.0, \"#0d0887\"], [0.1111111111111111, \"#46039f\"], [0.2222222222222222, \"#7201a8\"], [0.3333333333333333, \"#9c179e\"], [0.4444444444444444, \"#bd3786\"], [0.5555555555555556, \"#d8576b\"], [0.6666666666666666, \"#ed7953\"], [0.7777777777777778, \"#fb9f3a\"], [0.8888888888888888, \"#fdca26\"], [1.0, \"#f0f921\"]]}, \"colorway\": [\"#636efa\", \"#EF553B\", \"#00cc96\", \"#ab63fa\", \"#FFA15A\", \"#19d3f3\", \"#FF6692\", \"#B6E880\", \"#FF97FF\", \"#FECB52\"], \"font\": {\"color\": \"#2a3f5f\"}, \"geo\": {\"bgcolor\": \"white\", \"lakecolor\": \"white\", \"landcolor\": \"#E5ECF6\", \"showlakes\": true, \"showland\": true, \"subunitcolor\": \"white\"}, \"hoverlabel\": {\"align\": \"left\"}, \"hovermode\": \"closest\", \"mapbox\": {\"style\": \"light\"}, \"paper_bgcolor\": \"white\", \"plot_bgcolor\": \"#E5ECF6\", \"polar\": {\"angularaxis\": {\"gridcolor\": \"white\", \"linecolor\": \"white\", \"ticks\": \"\"}, \"bgcolor\": \"#E5ECF6\", \"radialaxis\": {\"gridcolor\": \"white\", \"linecolor\": \"white\", \"ticks\": \"\"}}, \"scene\": {\"xaxis\": {\"backgroundcolor\": \"#E5ECF6\", \"gridcolor\": \"white\", \"gridwidth\": 2, \"linecolor\": \"white\", \"showbackground\": true, \"ticks\": \"\", \"zerolinecolor\": \"white\"}, \"yaxis\": {\"backgroundcolor\": \"#E5ECF6\", \"gridcolor\": \"white\", \"gridwidth\": 2, \"linecolor\": \"white\", \"showbackground\": true, \"ticks\": \"\", \"zerolinecolor\": \"white\"}, \"zaxis\": {\"backgroundcolor\": \"#E5ECF6\", \"gridcolor\": \"white\", \"gridwidth\": 2, \"linecolor\": \"white\", \"showbackground\": true, \"ticks\": \"\", \"zerolinecolor\": \"white\"}}, \"shapedefaults\": {\"line\": {\"color\": \"#2a3f5f\"}}, \"ternary\": {\"aaxis\": {\"gridcolor\": \"white\", \"linecolor\": \"white\", \"ticks\": \"\"}, \"baxis\": {\"gridcolor\": \"white\", \"linecolor\": \"white\", \"ticks\": \"\"}, \"bgcolor\": \"#E5ECF6\", \"caxis\": {\"gridcolor\": \"white\", \"linecolor\": \"white\", \"ticks\": \"\"}}, \"title\": {\"x\": 0.05}, \"xaxis\": {\"automargin\": true, \"gridcolor\": \"white\", \"linecolor\": \"white\", \"ticks\": \"\", \"title\": {\"standoff\": 15}, \"zerolinecolor\": \"white\", \"zerolinewidth\": 2}, \"yaxis\": {\"automargin\": true, \"gridcolor\": \"white\", \"linecolor\": \"white\", \"ticks\": \"\", \"title\": {\"standoff\": 15}, \"zerolinecolor\": \"white\", \"zerolinewidth\": 2}}}, \"title\": {\"text\": \"Clusters by K-Means\"}},                        {\"responsive\": true}                    ).then(function(){\n",
       "                            \n",
       "var gd = document.getElementById('fe08246a-ed3b-4c2f-b1f6-2d9641e2f397');\n",
       "var x = new MutationObserver(function (mutations, observer) {{\n",
       "        var display = window.getComputedStyle(gd).display;\n",
       "        if (!display || display === 'none') {{\n",
       "            console.log([gd, 'removed!']);\n",
       "            Plotly.purge(gd);\n",
       "            observer.disconnect();\n",
       "        }}\n",
       "}});\n",
       "\n",
       "// Listen for the removal of the full notebook cells\n",
       "var notebookContainer = gd.closest('#notebook-container');\n",
       "if (notebookContainer) {{\n",
       "    x.observe(notebookContainer, {childList: true});\n",
       "}}\n",
       "\n",
       "// Listen for the clearing of the current output cell\n",
       "var outputEl = gd.closest('.output');\n",
       "if (outputEl) {{\n",
       "    x.observe(outputEl, {childList: true});\n",
       "}}\n",
       "\n",
       "                        })                };                });            </script>        </div>"
      ]
     },
     "metadata": {},
     "output_type": "display_data"
    }
   ],
   "source": [
    "import plotly as py\n",
    "import plotly.graph_objs as go\n",
    "\n",
    "def tracer(db, n, name):\n",
    "    '''\n",
    "    This function returns trace object for Plotly\n",
    "    '''\n",
    "    return go.Scatter3d(\n",
    "        x = db[db['clusters']==n]['Fresh'],\n",
    "        y = db[db['clusters']==n]['Frozen'],\n",
    "        z = db[db['clusters']==n]['Grocery'],\n",
    "        mode = 'markers',\n",
    "        name = name,\n",
    "        marker = dict(\n",
    "            size = 2\n",
    "        )\n",
    "     )\n",
    "\n",
    "trace0 = tracer(df, 0, 'Cluster 0')\n",
    "trace1 = tracer(df, 1, 'Cluster 1')\n",
    "\n",
    "\n",
    "data = [trace0, trace1]\n",
    "\n",
    "layout = go.Layout(\n",
    "    title = 'Clusters by K-Means',\n",
    "    scene = dict(\n",
    "            xaxis = dict(title = 'Fresh'),\n",
    "            yaxis = dict(title = 'Frozen'),\n",
    "            zaxis = dict(title = 'Grocery')\n",
    "        )\n",
    ")\n",
    "\n",
    "fig = go.Figure(data=data, layout=layout)\n",
    "py.offline.iplot(fig)"
   ]
  },
  {
   "cell_type": "code",
   "execution_count": 84,
   "metadata": {},
   "outputs": [],
   "source": [
    "eps_values = np.arange(20, 25, 0.25)\n",
    "min_samples = np.arange(10, 12)\n",
    "DBSCAN_params = list(product(eps_values, min_samples))"
   ]
  },
  {
   "cell_type": "code",
   "execution_count": 85,
   "metadata": {},
   "outputs": [
    {
     "ename": "ValueError",
     "evalue": "Number of labels is 1. Valid values are 2 to n_samples - 1 (inclusive)",
     "output_type": "error",
     "traceback": [
      "\u001b[1;31m---------------------------------------------------------------------------\u001b[0m",
      "\u001b[1;31mValueError\u001b[0m                                Traceback (most recent call last)",
      "\u001b[1;32m<ipython-input-85-72d6ba11edc1>\u001b[0m in \u001b[0;36m<module>\u001b[1;34m\u001b[0m\n\u001b[0;32m      6\u001b[0m     \u001b[0mDBS_clust\u001b[0m\u001b[1;33m.\u001b[0m\u001b[0mfit\u001b[0m\u001b[1;33m(\u001b[0m\u001b[0mX\u001b[0m\u001b[1;33m)\u001b[0m\u001b[1;33m\u001b[0m\u001b[1;33m\u001b[0m\u001b[0m\n\u001b[0;32m      7\u001b[0m     \u001b[0mn_clusters\u001b[0m\u001b[1;33m.\u001b[0m\u001b[0mappend\u001b[0m\u001b[1;33m(\u001b[0m\u001b[0mlen\u001b[0m\u001b[1;33m(\u001b[0m\u001b[0mnp\u001b[0m\u001b[1;33m.\u001b[0m\u001b[0munique\u001b[0m\u001b[1;33m(\u001b[0m\u001b[0mDBS_clust\u001b[0m\u001b[1;33m.\u001b[0m\u001b[0mlabels_\u001b[0m\u001b[1;33m)\u001b[0m\u001b[1;33m)\u001b[0m\u001b[1;33m)\u001b[0m\u001b[1;33m\u001b[0m\u001b[1;33m\u001b[0m\u001b[0m\n\u001b[1;32m----> 8\u001b[1;33m     \u001b[0ms_score\u001b[0m \u001b[1;33m=\u001b[0m \u001b[0msilhouette_score\u001b[0m\u001b[1;33m(\u001b[0m\u001b[0mX\u001b[0m\u001b[1;33m,\u001b[0m \u001b[0mDBS_clust\u001b[0m\u001b[1;33m.\u001b[0m\u001b[0mlabels_\u001b[0m\u001b[1;33m)\u001b[0m\u001b[1;33m\u001b[0m\u001b[1;33m\u001b[0m\u001b[0m\n\u001b[0m\u001b[0;32m      9\u001b[0m     \u001b[0msil_score\u001b[0m\u001b[1;33m.\u001b[0m\u001b[0mappend\u001b[0m\u001b[1;33m(\u001b[0m\u001b[0ms_score\u001b[0m\u001b[1;33m)\u001b[0m\u001b[1;33m\u001b[0m\u001b[1;33m\u001b[0m\u001b[0m\n",
      "\u001b[1;32m~\\anaconda3\\lib\\site-packages\\sklearn\\metrics\\cluster\\_unsupervised.py\u001b[0m in \u001b[0;36msilhouette_score\u001b[1;34m(X, labels, metric, sample_size, random_state, **kwds)\u001b[0m\n\u001b[0;32m    115\u001b[0m         \u001b[1;32melse\u001b[0m\u001b[1;33m:\u001b[0m\u001b[1;33m\u001b[0m\u001b[1;33m\u001b[0m\u001b[0m\n\u001b[0;32m    116\u001b[0m             \u001b[0mX\u001b[0m\u001b[1;33m,\u001b[0m \u001b[0mlabels\u001b[0m \u001b[1;33m=\u001b[0m \u001b[0mX\u001b[0m\u001b[1;33m[\u001b[0m\u001b[0mindices\u001b[0m\u001b[1;33m]\u001b[0m\u001b[1;33m,\u001b[0m \u001b[0mlabels\u001b[0m\u001b[1;33m[\u001b[0m\u001b[0mindices\u001b[0m\u001b[1;33m]\u001b[0m\u001b[1;33m\u001b[0m\u001b[1;33m\u001b[0m\u001b[0m\n\u001b[1;32m--> 117\u001b[1;33m     \u001b[1;32mreturn\u001b[0m \u001b[0mnp\u001b[0m\u001b[1;33m.\u001b[0m\u001b[0mmean\u001b[0m\u001b[1;33m(\u001b[0m\u001b[0msilhouette_samples\u001b[0m\u001b[1;33m(\u001b[0m\u001b[0mX\u001b[0m\u001b[1;33m,\u001b[0m \u001b[0mlabels\u001b[0m\u001b[1;33m,\u001b[0m \u001b[0mmetric\u001b[0m\u001b[1;33m=\u001b[0m\u001b[0mmetric\u001b[0m\u001b[1;33m,\u001b[0m \u001b[1;33m**\u001b[0m\u001b[0mkwds\u001b[0m\u001b[1;33m)\u001b[0m\u001b[1;33m)\u001b[0m\u001b[1;33m\u001b[0m\u001b[1;33m\u001b[0m\u001b[0m\n\u001b[0m\u001b[0;32m    118\u001b[0m \u001b[1;33m\u001b[0m\u001b[0m\n\u001b[0;32m    119\u001b[0m \u001b[1;33m\u001b[0m\u001b[0m\n",
      "\u001b[1;32m~\\anaconda3\\lib\\site-packages\\sklearn\\metrics\\cluster\\_unsupervised.py\u001b[0m in \u001b[0;36msilhouette_samples\u001b[1;34m(X, labels, metric, **kwds)\u001b[0m\n\u001b[0;32m    226\u001b[0m     \u001b[0mn_samples\u001b[0m \u001b[1;33m=\u001b[0m \u001b[0mlen\u001b[0m\u001b[1;33m(\u001b[0m\u001b[0mlabels\u001b[0m\u001b[1;33m)\u001b[0m\u001b[1;33m\u001b[0m\u001b[1;33m\u001b[0m\u001b[0m\n\u001b[0;32m    227\u001b[0m     \u001b[0mlabel_freqs\u001b[0m \u001b[1;33m=\u001b[0m \u001b[0mnp\u001b[0m\u001b[1;33m.\u001b[0m\u001b[0mbincount\u001b[0m\u001b[1;33m(\u001b[0m\u001b[0mlabels\u001b[0m\u001b[1;33m)\u001b[0m\u001b[1;33m\u001b[0m\u001b[1;33m\u001b[0m\u001b[0m\n\u001b[1;32m--> 228\u001b[1;33m     \u001b[0mcheck_number_of_labels\u001b[0m\u001b[1;33m(\u001b[0m\u001b[0mlen\u001b[0m\u001b[1;33m(\u001b[0m\u001b[0mle\u001b[0m\u001b[1;33m.\u001b[0m\u001b[0mclasses_\u001b[0m\u001b[1;33m)\u001b[0m\u001b[1;33m,\u001b[0m \u001b[0mn_samples\u001b[0m\u001b[1;33m)\u001b[0m\u001b[1;33m\u001b[0m\u001b[1;33m\u001b[0m\u001b[0m\n\u001b[0m\u001b[0;32m    229\u001b[0m \u001b[1;33m\u001b[0m\u001b[0m\n\u001b[0;32m    230\u001b[0m     \u001b[0mkwds\u001b[0m\u001b[1;33m[\u001b[0m\u001b[1;34m'metric'\u001b[0m\u001b[1;33m]\u001b[0m \u001b[1;33m=\u001b[0m \u001b[0mmetric\u001b[0m\u001b[1;33m\u001b[0m\u001b[1;33m\u001b[0m\u001b[0m\n",
      "\u001b[1;32m~\\anaconda3\\lib\\site-packages\\sklearn\\metrics\\cluster\\_unsupervised.py\u001b[0m in \u001b[0;36mcheck_number_of_labels\u001b[1;34m(n_labels, n_samples)\u001b[0m\n\u001b[0;32m     33\u001b[0m     \u001b[1;32mif\u001b[0m \u001b[1;32mnot\u001b[0m \u001b[1;36m1\u001b[0m \u001b[1;33m<\u001b[0m \u001b[0mn_labels\u001b[0m \u001b[1;33m<\u001b[0m \u001b[0mn_samples\u001b[0m\u001b[1;33m:\u001b[0m\u001b[1;33m\u001b[0m\u001b[1;33m\u001b[0m\u001b[0m\n\u001b[0;32m     34\u001b[0m         raise ValueError(\"Number of labels is %d. Valid values are 2 \"\n\u001b[1;32m---> 35\u001b[1;33m                          \"to n_samples - 1 (inclusive)\" % n_labels)\n\u001b[0m\u001b[0;32m     36\u001b[0m \u001b[1;33m\u001b[0m\u001b[0m\n\u001b[0;32m     37\u001b[0m \u001b[1;33m\u001b[0m\u001b[0m\n",
      "\u001b[1;31mValueError\u001b[0m: Number of labels is 1. Valid values are 2 to n_samples - 1 (inclusive)"
     ]
    }
   ],
   "source": [
    "n_clusters = []\n",
    "sil_score = []\n",
    "\n",
    "for param in DBSCAN_params:\n",
    "    DBS_clust = DBSCAN(eps = param[0], min_samples=param[1])\n",
    "    DBS_clust.fit(X)\n",
    "    n_clusters.append(len(np.unique(DBS_clust.labels_)))\n",
    "    s_score = silhouette_score(X, DBS_clust.labels_)\n",
    "    sil_score.append(s_score)"
   ]
  },
  {
   "cell_type": "code",
   "execution_count": null,
   "metadata": {},
   "outputs": [],
   "source": [
    "tmp = pd.DataFrame.from_records(DBSCAN_params, columns =['Eps', 'Min_samples']) "
   ]
  }
 ],
 "metadata": {
  "kernelspec": {
   "display_name": "Python 3",
   "language": "python",
   "name": "python3"
  },
  "language_info": {
   "codemirror_mode": {
    "name": "ipython",
    "version": 3
   },
   "file_extension": ".py",
   "mimetype": "text/x-python",
   "name": "python",
   "nbconvert_exporter": "python",
   "pygments_lexer": "ipython3",
   "version": "3.7.6"
  }
 },
 "nbformat": 4,
 "nbformat_minor": 4
}
